{
  "nbformat": 4,
  "nbformat_minor": 0,
  "metadata": {
    "colab": {
      "name": "Projet_Stage_ESITH_Textile.ipynb",
      "provenance": [],
      "collapsed_sections": [],
      "authorship_tag": "ABX9TyN8NiE4sPsuQyDfNps0qVnC",
      "include_colab_link": true
    },
    "kernelspec": {
      "name": "python3",
      "display_name": "Python 3"
    },
    "language_info": {
      "name": "python"
    }
  },
  "cells": [
    {
      "cell_type": "markdown",
      "metadata": {
        "id": "view-in-github",
        "colab_type": "text"
      },
      "source": [
        "<a href=\"https://colab.research.google.com/github/hermannkakapeu/ML/blob/main/Projet_Stage_ESITH_Textile.ipynb\" target=\"_parent\"><img src=\"https://colab.research.google.com/assets/colab-badge.svg\" alt=\"Open In Colab\"/></a>"
      ]
    },
    {
      "cell_type": "markdown",
      "source": [
        "## IMPORTATION DES LIBRAIRIES\n",
        "on commence par importer tpoutes les bibliotheques python qui serviront\n",
        "à mener à bien le projet."
      ],
      "metadata": {
        "id": "uxFOv5mGHxo-"
      }
    },
    {
      "cell_type": "code",
      "execution_count": null,
      "metadata": {
        "id": "_eZipkC5z-BW"
      },
      "outputs": [],
      "source": [
        "import pandas as pd\n",
        "import numpy as np"
      ]
    },
    {
      "cell_type": "code",
      "source": [
        "import matplotlib.pyplot as plt\n",
        "import seaborn as sns"
      ],
      "metadata": {
        "id": "j5r0I1Erwy3x"
      },
      "execution_count": null,
      "outputs": []
    },
    {
      "cell_type": "code",
      "source": [
        "from sklearn.model_selection import train_test_split"
      ],
      "metadata": {
        "id": "VQgXAGM7RGLX"
      },
      "execution_count": null,
      "outputs": []
    },
    {
      "cell_type": "markdown",
      "source": [
        "### IMPORTATION DE LA DATA\n",
        "Pour cela nous avons trois méthodes majeures:\n",
        "\n",
        "* Soit on utilise la fonction upload() pour televerser les fichiers \n",
        "* soit on les charge directement dans l'estce de stockage de la session à gauche\n",
        "* soit on met la data sur notre drive et on le charge via drive.mount()\n"
      ],
      "metadata": {
        "id": "jsoWKgQfIb-D"
      }
    },
    {
      "cell_type": "code",
      "source": [
        "#Grace à cette commande facile de Google Colab on importe notre fichier texte\n",
        "#depuis notre PC sur le note book, il est aussi possible de le faire via le Drive\n",
        "\n",
        "\n",
        "from google.colab import files\n",
        "#from google.colab import drive/files\n",
        "files.upload()\n",
        "#drive.mount('content\\gdrive')"
      ],
      "metadata": {
        "id": "dhLSchbnxU-K"
      },
      "execution_count": null,
      "outputs": []
    },
    {
      "cell_type": "code",
      "source": [
        "#data = text_to_pandas('/content/2022-05-26_08-48-25_absorbance.txt', 1)\n",
        "\n",
        "cart1 = '/content/carton1.txt'\n",
        "cart2 = '/content/carton2.txt'\n",
        "montelp = '/content/montel.txt'\n",
        "reff = '/content/ref.txt' \n",
        "\n",
        "carton1 = text_to_pandas(cart1, 'carton 1')\n",
        "carton2 = text_to_pandas(cart2, 'carton 2')\n",
        "montel = text_to_pandas(montelp, 'mon telephone')\n",
        "ref = text_to_pandas(reff, 'la reference')\n"
      ],
      "metadata": {
        "id": "eeWe8Nku0n54",
        "colab": {
          "base_uri": "https://localhost:8080/"
        },
        "outputId": "2cf63671-b0fc-4418-a0ee-8e18b75c3a37"
      },
      "execution_count": null,
      "outputs": [
        {
          "output_type": "stream",
          "name": "stderr",
          "text": [
            "/usr/local/lib/python3.7/dist-packages/ipykernel_launcher.py:16: FutureWarning: In a future version of pandas all arguments of DataFrame.drop except for the argument 'labels' will be keyword-only\n",
            "  app.launch_new_instance()\n"
          ]
        }
      ]
    },
    {
      "cell_type": "code",
      "source": [
        "carton1"
      ],
      "metadata": {
        "id": "225VkSW_5kOX"
      },
      "execution_count": null,
      "outputs": []
    },
    {
      "cell_type": "code",
      "source": [
        "#stack.iloc[1:2,:-1].loc[1]"
      ],
      "metadata": {
        "colab": {
          "base_uri": "https://localhost:8080/"
        },
        "id": "xuFH_Y9F5sor",
        "outputId": "9ef4d5dd-830c-46b8-b28b-fa72d79d0833"
      },
      "execution_count": null,
      "outputs": [
        {
          "output_type": "execute_result",
          "data": {
            "text/plain": [
              "0.248098508"
            ]
          },
          "metadata": {},
          "execution_count": 30
        }
      ]
    },
    {
      "cell_type": "code",
      "source": [
        ""
      ],
      "metadata": {
        "id": "9idViBpj53Cf"
      },
      "execution_count": null,
      "outputs": []
    },
    {
      "cell_type": "markdown",
      "source": [
        "## LES FONCTIONS UTILES"
      ],
      "metadata": {
        "id": "FPyVcsKuKmcf"
      }
    },
    {
      "cell_type": "code",
      "source": [
        "# je dois enlever les deux premières lignes(mesures) et les lignes contenant des NaN\n",
        "#dans le DatFrame car elles sont nulles dans tous les datas.\n",
        "\n",
        "def text_to_pandas(path, etiquette):\n",
        "  \"\"\"\n",
        "  Ctette fonction prend en entrée le chemin du fichier \n",
        "  texte contenant les donnee recueillies par SensorControl\n",
        "  et les retourne sous forme de table Pandas en ajoutant une colonne \n",
        "  specifiant le type de tissu. \n",
        "  \"\"\"\n",
        "  path_text = path\n",
        "  et = etiquette\n",
        "  df = pd.read_csv(path_text, sep='\\t', header=1)\n",
        "  del(df['Time'])\n",
        "  del(df['Date'])\n",
        "  df = df.drop([0,1], 0)\n",
        "  df = num(df)\n",
        "  df = df.assign(type_tissu=et)\n",
        "  #col = df.columns[0]\n",
        "  #df.drop(df.loc[df[col] == 'NaN'])\n",
        "  return df\n",
        "\n",
        "\n"
      ],
      "metadata": {
        "id": "c4uR2l0EycMT"
      },
      "execution_count": null,
      "outputs": []
    },
    {
      "cell_type": "code",
      "source": [
        "def stack_data(data1, data2):\n",
        "  \"\"\"\n",
        "  cette fonction prend en entrée deux DataFrames Pandas et renvoie une seule Table\n",
        "  qui est la superposition verticale de ces deux dernières.\n",
        "  \"\"\"\n",
        "  data = pd.concat([data1, data2], join = 'inner', ignore_index = True)\n",
        "  return data\n",
        "\n",
        "\n",
        "# http://www.python-simple.com/python-pandas/concatenations-joins-dataframe.php\n",
        "# ce site est très utile pour les concatenations de DataFrame pa,das."
      ],
      "metadata": {
        "id": "KztTKcyo6KNj"
      },
      "execution_count": null,
      "outputs": []
    },
    {
      "cell_type": "code",
      "source": [
        "#je pourai ameliorer cette fonction au fur et a mesure que j'aurai d'autres idées\n",
        "# J'ai aussi a l'idee de mettre toutes ces fonction dans une classe et faciliter l'interaction entre elles\n",
        "\n",
        "def les_infos(data):\n",
        "  \"\"\"\n",
        "  Cette fonction prend en entrée un DataFrame pandas et renvoie\n",
        "  des informations specifiques et utiles à notre études sur le datset. \n",
        "  \"\"\"\n",
        "  a1 = data.columns[1]\n",
        "  b1 = a1.replace(',', '.')\n",
        "  c1 = float(b1)\n",
        "  a2 = data.columns[2]\n",
        "  b2 = a2.replace(',', '.')\n",
        "  c2 = float(b2)\n",
        "  pas = c2 - c1\n",
        "\n",
        "  first = float(data.columns[0].replace(',', '.'))\n",
        "  last = float(data.columns[-2].replace(',', '.'))\n",
        "\n",
        "  numMesure = data.shape[0]\n",
        "  numWL = data.shape[1]-1\n",
        "\n",
        "\n",
        "\n",
        "  print('************INFOS SUR CE DATA**************')\n",
        "  print('')\n",
        "  print('')\n",
        "  print(f\"plage de longueur d'onde : [{first} - {last}]\\nPas d'incrementation : {pas}\\nNombre de Mesures : {numMesure}\\nNombre de longueurs d'onde : {numWL}\")\n",
        "  \n",
        "\n"
      ],
      "metadata": {
        "id": "ew4kgwZo_XRe"
      },
      "execution_count": null,
      "outputs": []
    },
    {
      "cell_type": "code",
      "source": [
        "def list_plage(data):\n",
        "  \"\"\"\n",
        "  Cette fonction prend en entree un DataFrame pandas contenant les donnees\n",
        "  et renvoie la liste des longueurs d'onde dans une liste en format float\n",
        "  ca peut etre utile si on veut trcaer des courbes\n",
        "  \"\"\"\n",
        "  liste = []\n",
        "  col = []\n",
        "  for i in data.columns :\n",
        "    col.append(i)\n",
        "  for i in col :\n",
        "    if (col.index(i) != len(col)-1) :\n",
        "      x = float(i.replace(',', '.'))\n",
        "      liste.append(x)\n",
        "\n",
        "  \n",
        "  return liste\n",
        "\n",
        "\n",
        "\n",
        "def list_mesure(data, numLigne):\n",
        "  \"\"\"\n",
        "  Cette fonction prend en entrée un dataFrame pandas et le numéro d'une ligne \n",
        "  qu'elle renvoie sous forme de liste.\n",
        "  c'est comme si on renvoie une mésure parmi les autres mesures. Elle sera utile pour des traces de courbes\n",
        "  mais aussi pour faciliter les predictions. \n",
        "  \"\"\"\n",
        "  liste = []\n",
        "  liste1 = []\n",
        "  #iter = data.iloc[numLigne:numLigne+1,:-1].loc[0]\n",
        "  iter = data.loc[numLigne]\n",
        "  for i in iter :\n",
        "    liste.append(i)\n",
        "  L = liste[:-1]\n",
        "\n",
        "  return L\n",
        "\n",
        "\n",
        "\n",
        "def list_mesure1(data, numLigne):\n",
        "  \"\"\"\n",
        "  Cette fonction prend en entrée un dataFrame pandas et le numéro d'une ligne \n",
        "  qu'elle renvoie sous forme de liste.\n",
        "  c'est comme si on renvoie une mésure parmi les autres mesures. Elle sera utile pour des traces de courbes\n",
        "  mais aussi pour faciliter les predictions. \n",
        "  \"\"\"\n",
        "  liste = []\n",
        "  liste1 = []\n",
        "  iter = data.loc[numLigne]\n",
        "  for i in iter :\n",
        "    liste.append(i)\n",
        "  L = liste\n",
        "  #for i in L :\n",
        "      #x = float(i.replace(',', '.'))\n",
        "      #liste1.append(x)\n",
        "  return L"
      ],
      "metadata": {
        "id": "j7mhr7UTrnZI"
      },
      "execution_count": null,
      "outputs": []
    },
    {
      "cell_type": "code",
      "source": [
        "def plot_mesure(data, numLigne):\n",
        "  \"\"\"\n",
        "  Cette fonction prend en entree le DataFrame avec le numéro de ligne de la mésure et renvoie en sortie\n",
        "  le tracé de la mesure en fonction de la plage de longueur d'onde définie.\n",
        "  \"\"\"\n",
        "  import matplotlib.pyplot as plt\n",
        "\n",
        "  plage = list_plage(data)\n",
        "  mesure = list_mesure(data, numLigne)\n",
        "\n",
        "  plt.axes()\n",
        "  plot = plt.plot(plage, mesure)\n",
        "  #plt.plot(plage, mesure)\n",
        "  plt.xlim([1550, 1900])\n",
        "  plt.ylim([min(mesure), max(mesure)])\n",
        "  plt.yticks(np.arange(min(mesure), max(mesure), 0.01))\n",
        "  plt.xticks(np.arange(1550, 1900, 10))\n",
        "  plt.show()\n",
        "  return plot\n",
        "\n",
        "#plage = list_plage(montel)\n",
        "#mesure7 = list_mesure(carton2, 5)\n",
        "\n",
        "#plt.plot(plage, mesure7)\n",
        "\n",
        "def plot_list(data, listMesure):\n",
        "  \"\"\"\n",
        "  Cette fonction prend en entree le DataFrame avec le numéro de ligne de la mésure et renvoie en sortie\n",
        "  le tracé de la mesure en fonction de la plage de longueur d'onde définie.\n",
        "  \"\"\"\n",
        "  import matplotlib.pyplot as plt\n",
        "  \n",
        "  plage = list_plage(data)\n",
        "  #mesure = list_mesure(data, numLigne)\n",
        "\n",
        "  plt.axes()\n",
        "  #plot = plt.plot(plage, mesure)\n",
        "  for i in listMesure :\n",
        "    plt.subplot()\n",
        "    mesure = list_mesure(data, i)\n",
        "    plt.plot(plage, mesure)\n",
        "    plt.xlim([1550, 1900])\n",
        "    plt.ylim([min(mesure), max(mesure)])\n",
        "    plt.yticks(np.arange(min(mesure), max(mesure), 0.01))\n",
        "    plt.xticks(np.arange(1550, 1900, 30))\n",
        "    plt.grid(True)\n",
        "    plt.show()\n",
        "  #return plot\n"
      ],
      "metadata": {
        "id": "gu-0vhD4YB1f"
      },
      "execution_count": null,
      "outputs": []
    },
    {
      "cell_type": "code",
      "source": [
        "def numeric_X(X):\n",
        "  \"\"\"\n",
        "  le but de cette fonction est de prendre en entrée les variables X et de retourner\n",
        "  les valeurs de ce dataframe en numerique. car ils sont en format str au depart.\n",
        "  \"\"\"\n",
        "  liste4 = X.columns\n",
        "  liste2 = []\n",
        "  for i in range(X.shape[0]) :\n",
        "    liste2.append(list_mesure1(X, i))\n",
        "  X_num = pd.DataFrame(liste2, columns=liste4)\n",
        "\n",
        "  return X_num\n",
        "\n",
        "def num(df):\n",
        "  a = df.apply(lambda x: x.str.replace(',','.'))\n",
        "  return a.astype(float)\n",
        "\n",
        "\n",
        "\n"
      ],
      "metadata": {
        "id": "R6b06BFjtVX6"
      },
      "execution_count": null,
      "outputs": []
    },
    {
      "cell_type": "code",
      "source": [
        "m = [[1], [3, 6]]\n",
        "#max(max(m))"
      ],
      "metadata": {
        "id": "rasW6tI945Nr"
      },
      "execution_count": null,
      "outputs": []
    },
    {
      "cell_type": "markdown",
      "source": [
        "## TESTS DES FONCTIONS"
      ],
      "metadata": {
        "id": "5i1XGEK1L9JM"
      }
    },
    {
      "cell_type": "code",
      "source": [
        "#stackTest = stack_data(data, data)\n",
        "#stackTest\n",
        "listedata = [carton2, montel, ref]\n",
        "stack = carton1\n",
        "for i in range(3):\n",
        "  stack = stack_data(stack, listedata[i])\n",
        "stack"
      ],
      "metadata": {
        "id": "6n-pYbZJ_Ek6"
      },
      "execution_count": null,
      "outputs": []
    },
    {
      "cell_type": "code",
      "source": [
        "stack.shape"
      ],
      "metadata": {
        "id": "WwP859ylPx0U"
      },
      "execution_count": null,
      "outputs": []
    },
    {
      "cell_type": "code",
      "source": [
        "les_infos(stack) "
      ],
      "metadata": {
        "id": "skH1HmlPoiBF",
        "colab": {
          "base_uri": "https://localhost:8080/"
        },
        "outputId": "9388966b-4715-41a7-d177-10c12f4ffa87"
      },
      "execution_count": null,
      "outputs": [
        {
          "output_type": "stream",
          "name": "stdout",
          "text": [
            "************INFOS SUR CE DATA**************\n",
            "\n",
            "\n",
            "plage de longueur d'onde : [1550.0 - 1900.0]\n",
            "Pas d'incrementation : 10.0\n",
            "Nombre de Mesures : 20\n",
            "Nombre de longueurs d'onde : 36\n"
          ]
        }
      ]
    },
    {
      "cell_type": "code",
      "source": [
        "#TEST : affichage des spectres des differents echantillons\n",
        "fig = plt.figure(1)\n",
        "for k in range():\n",
        "  \n",
        "plage = list_plage(montel)\n",
        "mesure7 = list_mesure(carton2, 5)\n",
        "plt.axes()\n",
        "plt.plot(plage, mesure7)\n",
        "plt.xlim([1550, 1900])\n",
        "plt.ylim([0, 0.5])\n",
        "plt.yticks(np.arange(0, 0.5, 0.01))\n",
        "plt.xticks(np.arange(1550, 1900, 10))\n",
        "plt.show()\n",
        "\n",
        "#Test reusssi !"
      ],
      "metadata": {
        "id": "BDaHVQk3BJcB"
      },
      "execution_count": null,
      "outputs": []
    },
    {
      "cell_type": "code",
      "source": [
        "for i in range(20):\n",
        "  plot_mesure(stack, i)"
      ],
      "metadata": {
        "id": "sgB5cpQDb4pL"
      },
      "execution_count": null,
      "outputs": []
    },
    {
      "cell_type": "code",
      "source": [
        "l = [ i for i in range(5, 10)]\n",
        "plot_list(stack, l)"
      ],
      "metadata": {
        "colab": {
          "base_uri": "https://localhost:8080/",
          "height": 1000
        },
        "id": "t2K5OIQtkSSI",
        "outputId": "c5907d50-ab1b-4cc0-a52f-0a8df4eb0392"
      },
      "execution_count": null,
      "outputs": [
        {
          "output_type": "stream",
          "name": "stderr",
          "text": [
            "/usr/local/lib/python3.7/dist-packages/ipykernel_launcher.py:39: MatplotlibDeprecationWarning: Adding an axes using the same arguments as a previous axes currently reuses the earlier instance.  In a future version, a new instance will always be created and returned.  Meanwhile, this warning can be suppressed, and the future behavior ensured, by passing a unique label to each axes instance.\n"
          ]
        },
        {
          "output_type": "display_data",
          "data": {
            "text/plain": [
              "<Figure size 432x288 with 1 Axes>"
            ],
            "image/png": "[encoded data removed]"
          },
          "metadata": {
            "needs_background": "light"
          }
        },
        {
          "output_type": "display_data",
          "data": {
            "text/plain": [
              "<Figure size 432x288 with 1 Axes>"
            ],
            "image/png": "[encoded data removed]"
          },
          "metadata": {
            "needs_background": "light"
          }
        },
        {
          "output_type": "display_data",
          "data": {
            "text/plain": [
              "<Figure size 432x288 with 1 Axes>"
            ],
            "image/png": "[encoded data removed]"
          },
          "metadata": {
            "needs_background": "light"
          }
        },
        {
          "output_type": "display_data",
          "data": {
            "text/plain": [
              "<Figure size 432x288 with 1 Axes>"
            ],
            "image/png": "[encoded data removed]"
          },
          "metadata": {
            "needs_background": "light"
          }
        },
        {
          "output_type": "display_data",
          "data": {
            "text/plain": [
              "<Figure size 432x288 with 1 Axes>"
            ],
            "image/png": "[encoded data removed]"
          },
          "metadata": {
            "needs_background": "light"
          }
        }
      ]
    },
    {
      "cell_type": "code",
      "source": [
        "#CARTON1\n",
        "\n",
        "for i in range(5):\n",
        "  plot_mesure(stack, i)"
      ],
      "metadata": {
        "id": "0_D-zGoFb-73"
      },
      "execution_count": null,
      "outputs": []
    },
    {
      "cell_type": "code",
      "source": [
        "#CARTON 2\n",
        "\n",
        "for i in range(5, 10):\n",
        "  plot_mesure(stack, i)"
      ],
      "metadata": {
        "id": "bVibUFOCcEQE"
      },
      "execution_count": null,
      "outputs": []
    },
    {
      "cell_type": "code",
      "source": [
        "# MON TELEPHONE\n",
        "\n",
        "for i in range(10, 15):\n",
        "  plot_mesure(stack, i)"
      ],
      "metadata": {
        "id": "NQ_7n8acf511"
      },
      "execution_count": null,
      "outputs": []
    },
    {
      "cell_type": "code",
      "source": [
        "# REFERENCE\n",
        "\n",
        "for i in range(15, 20):\n",
        "  plot_mesure(stack, i)"
      ],
      "metadata": {
        "id": "ba3oTMfsgE34"
      },
      "execution_count": null,
      "outputs": []
    },
    {
      "cell_type": "code",
      "source": [
        "h = [1, 2, 3, 4]\n",
        "max(h)"
      ],
      "metadata": {
        "id": "BG9wgUF7gOWW",
        "colab": {
          "base_uri": "https://localhost:8080/"
        },
        "outputId": "da2884b3-d44e-407f-dcf8-3c28f1b833a5"
      },
      "execution_count": null,
      "outputs": [
        {
          "output_type": "execute_result",
          "data": {
            "text/plain": [
              "4"
            ]
          },
          "metadata": {},
          "execution_count": 24
        }
      ]
    },
    {
      "cell_type": "markdown",
      "source": [
        "## MODELES ML et DL"
      ],
      "metadata": {
        "id": "heWputoPOUhj"
      }
    },
    {
      "cell_type": "code",
      "source": [
        "\n",
        "def split_data(stack, pourcentage) :\n",
        "  \"\"\"\n",
        "  cette fonction prend en entree toute notre data et la portion pour le test et\n",
        "  le divise en deux parties pour ensuite renvoyer le X_train, X_test, y_train et y_test\n",
        "  \"\"\"\n",
        "  X = stack.iloc[:,:-1]\n",
        "  Y = stack.iloc[:,-1:]\n",
        "  \n",
        "  X_train, X_test, y_train, y_test = train_test_split(X, Y, test_size=pourcentage)\n",
        "  #X_train = num(X_train)\n",
        "  #X_test = num(X_test)\n",
        "\n",
        "  return X_train, X_test, y_train, y_test\n",
        "\n"
      ],
      "metadata": {
        "id": "qqkxlRctqGb0"
      },
      "execution_count": null,
      "outputs": []
    },
    {
      "cell_type": "code",
      "source": [
        "from sklearn.preprocessing import MinMaxScaler\n",
        "\n",
        "X_train, X_test, y_train, y_test = split_data(stack, 0.2)\n",
        "x_norm = MinMaxScaler()\n",
        "a = pd.DataFrame(x_norm.fit_transform(X_train))\n",
        "\n",
        "\n",
        "#X = stack.iloc[:,:-1]\n",
        "#X = num(X)\n",
        "#X_train = num(X_train)\n",
        "#X_test = num(X_test)\n"
      ],
      "metadata": {
        "id": "fEGdv7yILGEe"
      },
      "execution_count": null,
      "outputs": []
    },
    {
      "cell_type": "code",
      "source": [
        "b = list_plage(carton1)\n",
        "for i in range(a.shape[0]):\n",
        "  plt.plot(b, a.loc[i])"
      ],
      "metadata": {
        "colab": {
          "base_uri": "https://localhost:8080/",
          "height": 265
        },
        "id": "XC4bqq_bcHUg",
        "outputId": "6068c4b5-7212-4031-fea8-4aad7fd952b7"
      },
      "execution_count": null,
      "outputs": [
        {
          "output_type": "display_data",
          "data": {
            "text/plain": [
              "<Figure size 432x288 with 1 Axes>"
            ],
            "image/png": "[encoded data removed]"
          },
          "metadata": {
            "needs_background": "light"
          }
        }
      ]
    },
    {
      "cell_type": "code",
      "source": [
        "from sklearn.neighbors import KNeighborsClassifier\n",
        "from sklearn.preprocessing import LabelEncoder\n",
        "\n",
        "code = LabelEncoder()\n",
        "code.fit(y_train)\n",
        "code1 = code.transform(y_train)\n",
        "\n",
        "model = KNeighborsClassifier()\n",
        "model.fit(X_train, code1)\n",
        "\n",
        "from sklearn.linear_model import LinearRegression\n",
        "model1 = LinearRegression()\n",
        "model1.fit(X_train, code1)\n",
        "\n"
      ],
      "metadata": {
        "colab": {
          "base_uri": "https://localhost:8080/"
        },
        "id": "MBZ4ZwSxScaG",
        "outputId": "7a332763-9826-4675-9bd8-7faf8cd71b6b"
      },
      "execution_count": null,
      "outputs": [
        {
          "output_type": "stream",
          "name": "stderr",
          "text": [
            "/usr/local/lib/python3.7/dist-packages/sklearn/preprocessing/_label.py:98: DataConversionWarning: A column-vector y was passed when a 1d array was expected. Please change the shape of y to (n_samples, ), for example using ravel().\n",
            "  y = column_or_1d(y, warn=True)\n",
            "/usr/local/lib/python3.7/dist-packages/sklearn/preprocessing/_label.py:133: DataConversionWarning: A column-vector y was passed when a 1d array was expected. Please change the shape of y to (n_samples, ), for example using ravel().\n",
            "  y = column_or_1d(y, warn=True)\n"
          ]
        },
        {
          "output_type": "execute_result",
          "data": {
            "text/plain": [
              "LinearRegression()"
            ]
          },
          "metadata": {},
          "execution_count": 29
        }
      ]
    },
    {
      "cell_type": "code",
      "source": [
        "from sklearn.linear_model import SGDClassifier\n",
        "from sklearn.pipeline import make_pipeline\n",
        "from sklearn.preprocessing import StandardScaler\n",
        "\n",
        "model2 = make_pipeline(StandardScaler(),\n",
        "                    SGDClassifier(max_iter=1000, tol=1e-3))\n",
        "model2.fit(X_train, y_train)"
      ],
      "metadata": {
        "colab": {
          "base_uri": "https://localhost:8080/"
        },
        "id": "3nI031nnXUp4",
        "outputId": "2bfe3e77-af04-43f0-acb0-f28d2a6b4da4"
      },
      "execution_count": null,
      "outputs": [
        {
          "output_type": "stream",
          "name": "stderr",
          "text": [
            "/usr/local/lib/python3.7/dist-packages/sklearn/utils/validation.py:993: DataConversionWarning: A column-vector y was passed when a 1d array was expected. Please change the shape of y to (n_samples, ), for example using ravel().\n",
            "  y = column_or_1d(y, warn=True)\n"
          ]
        },
        {
          "output_type": "execute_result",
          "data": {
            "text/plain": [
              "Pipeline(steps=[('standardscaler', StandardScaler()),\n",
              "                ('sgdclassifier', SGDClassifier())])"
            ]
          },
          "metadata": {},
          "execution_count": 26
        }
      ]
    },
    {
      "cell_type": "code",
      "source": [
        "print(model2.predict(X_test))\n",
        "print(model2.score(X_train, y_train))\n",
        "print(X_test)"
      ],
      "metadata": {
        "colab": {
          "base_uri": "https://localhost:8080/"
        },
        "id": "VOnBl5kjYTJ4",
        "outputId": "4b47db77-bf76-428d-a041-17ce3a365ed5"
      },
      "execution_count": null,
      "outputs": [
        {
          "output_type": "stream",
          "name": "stdout",
          "text": [
            "['mon telephone' 'mon telephone' 'carton 2' 'mon telephone']\n",
            "0.8125\n",
            "    1550,0000  1560,0000  1570,0000  1580,0000  1590,0000  1600,0000  \\\n",
            "13   0.465698   0.464589   0.463493   0.462087   0.461109   0.460020   \n",
            "4    0.254849   0.252580   0.250845   0.248899   0.246079   0.242291   \n",
            "6    0.241750   0.239800   0.237901   0.235563   0.232389   0.228278   \n",
            "0    0.250983   0.249132   0.247390   0.245348   0.242832   0.239229   \n",
            "\n",
            "    1610,0000  1620,0000  1630,0000  1640,0000  ...  1810,0000  1820,0000  \\\n",
            "13   0.459055   0.458345   0.457929   0.457257  ...   0.460443   0.460188   \n",
            "4    0.238073   0.233342   0.229076   0.225534  ...   0.262397   0.261849   \n",
            "6    0.222753   0.218024   0.212974   0.208262  ...   0.215911   0.215971   \n",
            "0    0.234549   0.230189   0.226151   0.222578  ...   0.261545   0.261039   \n",
            "\n",
            "    1830,0000  1840,0000  1850,0000  1860,0000  1870,0000  1880,0000  \\\n",
            "13   0.459915   0.459084   0.459923   0.459707   0.460612   0.461959   \n",
            "4    0.260801   0.258694   0.257083   0.257122   0.260643   0.269517   \n",
            "6    0.215789   0.215640   0.215581   0.217337   0.222491   0.231813   \n",
            "0    0.259871   0.257909   0.256049   0.255786   0.259579   0.268246   \n",
            "\n",
            "    1890,0000  1900,0000  \n",
            "13   0.464138   0.468138  \n",
            "4    0.284606   0.304825  \n",
            "6    0.246840   0.266926  \n",
            "0    0.283346   0.303381  \n",
            "\n",
            "[4 rows x 36 columns]\n"
          ]
        }
      ]
    },
    {
      "cell_type": "code",
      "source": [
        "model1.predict(X_test)"
      ],
      "metadata": {
        "colab": {
          "base_uri": "https://localhost:8080/"
        },
        "id": "SnVdqmOlY4C0",
        "outputId": "f0471988-033d-4799-e0d4-3e4996a0d5f1"
      },
      "execution_count": null,
      "outputs": [
        {
          "output_type": "execute_result",
          "data": {
            "text/plain": [
              "array([2.93078932, 0.01866853, 1.12835065, 0.00711707])"
            ]
          },
          "metadata": {},
          "execution_count": 30
        }
      ]
    },
    {
      "cell_type": "code",
      "source": [
        "for i in range(X_test.shape[0]) :\n",
        "\n",
        "  print(model.predict(X_test.iloc[i:i+1,:]))"
      ],
      "metadata": {
        "id": "gLVb-IR0eaOZ",
        "colab": {
          "base_uri": "https://localhost:8080/"
        },
        "outputId": "bebc116c-9016-4e84-fe3a-6ca040d7745a"
      },
      "execution_count": null,
      "outputs": [
        {
          "output_type": "stream",
          "name": "stdout",
          "text": [
            "[1]\n",
            "[3]\n",
            "[2]\n",
            "[0]\n"
          ]
        }
      ]
    },
    {
      "cell_type": "code",
      "source": [
        "print(model.score(X_train, code1))"
      ],
      "metadata": {
        "colab": {
          "base_uri": "https://localhost:8080/"
        },
        "id": "gliw2zt8mwmf",
        "outputId": "ac5ebd8b-f6e7-4119-c798-2fd6f40deb90"
      },
      "execution_count": null,
      "outputs": [
        {
          "output_type": "stream",
          "name": "stdout",
          "text": [
            "1.0\n"
          ]
        }
      ]
    },
    {
      "cell_type": "code",
      "source": [
        "X_test"
      ],
      "metadata": {
        "colab": {
          "base_uri": "https://localhost:8080/",
          "height": 268
        },
        "id": "lBWzLr9xmlEQ",
        "outputId": "b83053e0-294b-46c8-8af9-36e333f750d7"
      },
      "execution_count": null,
      "outputs": [
        {
          "output_type": "execute_result",
          "data": {
            "text/plain": [
              "    1550,0000  1560,0000  1570,0000  1580,0000  1590,0000  1600,0000  \\\n",
              "8    0.246798   0.244838   0.242701   0.240164   0.237353   0.232915   \n",
              "11   0.459388   0.458678   0.457369   0.456039   0.454967   0.453672   \n",
              "15   0.004623   0.004653   0.004681   0.004671   0.004775   0.004870   \n",
              "2    0.254573   0.252701   0.250857   0.249274   0.246455   0.242884   \n",
              "\n",
              "    1610,0000  1620,0000  1630,0000  1640,0000  ...  1810,0000  1820,0000  \\\n",
              "8    0.227405   0.222155   0.217735   0.212909  ...   0.220466   0.220733   \n",
              "11   0.453517   0.452852   0.452132   0.451638  ...   0.455765   0.456141   \n",
              "15   0.004681   0.004626   0.004717   0.004643  ...   0.004739   0.004774   \n",
              "2    0.238498   0.233750   0.230086   0.226740  ...   0.264334   0.264061   \n",
              "\n",
              "    1830,0000  1840,0000  1850,0000  1860,0000  1870,0000  1880,0000  \\\n",
              "8    0.220642   0.220195   0.220356   0.222122   0.227502   0.237576   \n",
              "11   0.454861   0.454352   0.454486   0.454927   0.455515   0.456814   \n",
              "15   0.004705   0.004631   0.004840   0.004748   0.004772   0.004670   \n",
              "2    0.262946   0.260820   0.259207   0.259220   0.262885   0.271676   \n",
              "\n",
              "    1890,0000  1900,0000  \n",
              "8    0.253385   0.274468  \n",
              "11   0.459637   0.462692  \n",
              "15   0.004864   0.004856  \n",
              "2    0.287081   0.306606  \n",
              "\n",
              "[4 rows x 36 columns]"
            ],
            "text/html": [
              "\n",
              "  <div id=\"df-fc26d03f-a9cc-4dfb-8cc8-3702afaa8049\">\n",
              "    <div class=\"colab-df-container\">\n",
              "      <div>\n",
              "<style scoped>\n",
              "    .dataframe tbody tr th:only-of-type {\n",
              "        vertical-align: middle;\n",
              "    }\n",
              "\n",
              "    .dataframe tbody tr th {\n",
              "        vertical-align: top;\n",
              "    }\n",
              "\n",
              "    .dataframe thead th {\n",
              "        text-align: right;\n",
              "    }\n",
              "</style>\n",
              "<table border=\"1\" class=\"dataframe\">\n",
              "  <thead>\n",
              "    <tr style=\"text-align: right;\">\n",
              "      <th></th>\n",
              "      <th>1550,0000</th>\n",
              "      <th>1560,0000</th>\n",
              "      <th>1570,0000</th>\n",
              "      <th>1580,0000</th>\n",
              "      <th>1590,0000</th>\n",
              "      <th>1600,0000</th>\n",
              "      <th>1610,0000</th>\n",
              "      <th>1620,0000</th>\n",
              "      <th>1630,0000</th>\n",
              "      <th>1640,0000</th>\n",
              "      <th>...</th>\n",
              "      <th>1810,0000</th>\n",
              "      <th>1820,0000</th>\n",
              "      <th>1830,0000</th>\n",
              "      <th>1840,0000</th>\n",
              "      <th>1850,0000</th>\n",
              "      <th>1860,0000</th>\n",
              "      <th>1870,0000</th>\n",
              "      <th>1880,0000</th>\n",
              "      <th>1890,0000</th>\n",
              "      <th>1900,0000</th>\n",
              "    </tr>\n",
              "  </thead>\n",
              "  <tbody>\n",
              "    <tr>\n",
              "      <th>8</th>\n",
              "      <td>0.246798</td>\n",
              "      <td>0.244838</td>\n",
              "      <td>0.242701</td>\n",
              "      <td>0.240164</td>\n",
              "      <td>0.237353</td>\n",
              "      <td>0.232915</td>\n",
              "      <td>0.227405</td>\n",
              "      <td>0.222155</td>\n",
              "      <td>0.217735</td>\n",
              "      <td>0.212909</td>\n",
              "      <td>...</td>\n",
              "      <td>0.220466</td>\n",
              "      <td>0.220733</td>\n",
              "      <td>0.220642</td>\n",
              "      <td>0.220195</td>\n",
              "      <td>0.220356</td>\n",
              "      <td>0.222122</td>\n",
              "      <td>0.227502</td>\n",
              "      <td>0.237576</td>\n",
              "      <td>0.253385</td>\n",
              "      <td>0.274468</td>\n",
              "    </tr>\n",
              "    <tr>\n",
              "      <th>11</th>\n",
              "      <td>0.459388</td>\n",
              "      <td>0.458678</td>\n",
              "      <td>0.457369</td>\n",
              "      <td>0.456039</td>\n",
              "      <td>0.454967</td>\n",
              "      <td>0.453672</td>\n",
              "      <td>0.453517</td>\n",
              "      <td>0.452852</td>\n",
              "      <td>0.452132</td>\n",
              "      <td>0.451638</td>\n",
              "      <td>...</td>\n",
              "      <td>0.455765</td>\n",
              "      <td>0.456141</td>\n",
              "      <td>0.454861</td>\n",
              "      <td>0.454352</td>\n",
              "      <td>0.454486</td>\n",
              "      <td>0.454927</td>\n",
              "      <td>0.455515</td>\n",
              "      <td>0.456814</td>\n",
              "      <td>0.459637</td>\n",
              "      <td>0.462692</td>\n",
              "    </tr>\n",
              "    <tr>\n",
              "      <th>15</th>\n",
              "      <td>0.004623</td>\n",
              "      <td>0.004653</td>\n",
              "      <td>0.004681</td>\n",
              "      <td>0.004671</td>\n",
              "      <td>0.004775</td>\n",
              "      <td>0.004870</td>\n",
              "      <td>0.004681</td>\n",
              "      <td>0.004626</td>\n",
              "      <td>0.004717</td>\n",
              "      <td>0.004643</td>\n",
              "      <td>...</td>\n",
              "      <td>0.004739</td>\n",
              "      <td>0.004774</td>\n",
              "      <td>0.004705</td>\n",
              "      <td>0.004631</td>\n",
              "      <td>0.004840</td>\n",
              "      <td>0.004748</td>\n",
              "      <td>0.004772</td>\n",
              "      <td>0.004670</td>\n",
              "      <td>0.004864</td>\n",
              "      <td>0.004856</td>\n",
              "    </tr>\n",
              "    <tr>\n",
              "      <th>2</th>\n",
              "      <td>0.254573</td>\n",
              "      <td>0.252701</td>\n",
              "      <td>0.250857</td>\n",
              "      <td>0.249274</td>\n",
              "      <td>0.246455</td>\n",
              "      <td>0.242884</td>\n",
              "      <td>0.238498</td>\n",
              "      <td>0.233750</td>\n",
              "      <td>0.230086</td>\n",
              "      <td>0.226740</td>\n",
              "      <td>...</td>\n",
              "      <td>0.264334</td>\n",
              "      <td>0.264061</td>\n",
              "      <td>0.262946</td>\n",
              "      <td>0.260820</td>\n",
              "      <td>0.259207</td>\n",
              "      <td>0.259220</td>\n",
              "      <td>0.262885</td>\n",
              "      <td>0.271676</td>\n",
              "      <td>0.287081</td>\n",
              "      <td>0.306606</td>\n",
              "    </tr>\n",
              "  </tbody>\n",
              "</table>\n",
              "<p>4 rows × 36 columns</p>\n",
              "</div>\n",
              "      <button class=\"colab-df-convert\" onclick=\"convertToInteractive('df-fc26d03f-a9cc-4dfb-8cc8-3702afaa8049')\"\n",
              "              title=\"Convert this dataframe to an interactive table.\"\n",
              "              style=\"display:none;\">\n",
              "        \n",
              "  <svg xmlns=\"http://www.w3.org/2000/svg\" height=\"24px\"viewBox=\"0 0 24 24\"\n",
              "       width=\"24px\">\n",
              "    <path d=\"M0 0h24v24H0V0z\" fill=\"none\"/>\n",
              "    <path d=\"M18.56 5.44l.94 2.06.94-2.06 2.06-.94-2.06-.94-.94-2.06-.94 2.06-2.06.94zm-11 1L8.5 8.5l.94-2.06 2.06-.94-2.06-.94L8.5 2.5l-.94 2.06-2.06.94zm10 10l.94 2.06.94-2.06 2.06-.94-2.06-.94-.94-2.06-.94 2.06-2.06.94z\"/><path d=\"M17.41 7.96l-1.37-1.37c-.4-.4-.92-.59-1.43-.59-.52 0-1.04.2-1.43.59L10.3 9.45l-7.72 7.72c-.78.78-.78 2.05 0 2.83L4 21.41c.39.39.9.59 1.41.59.51 0 1.02-.2 1.41-.59l7.78-7.78 2.81-2.81c.8-.78.8-2.07 0-2.86zM5.41 20L4 18.59l7.72-7.72 1.47 1.35L5.41 20z\"/>\n",
              "  </svg>\n",
              "      </button>\n",
              "      \n",
              "  <style>\n",
              "    .colab-df-container {\n",
              "      display:flex;\n",
              "      flex-wrap:wrap;\n",
              "      gap: 12px;\n",
              "    }\n",
              "\n",
              "    .colab-df-convert {\n",
              "      background-color: #E8F0FE;\n",
              "      border: none;\n",
              "      border-radius: 50%;\n",
              "      cursor: pointer;\n",
              "      display: none;\n",
              "      fill: #1967D2;\n",
              "      height: 32px;\n",
              "      padding: 0 0 0 0;\n",
              "      width: 32px;\n",
              "    }\n",
              "\n",
              "    .colab-df-convert:hover {\n",
              "      background-color: #E2EBFA;\n",
              "      box-shadow: 0px 1px 2px rgba(60, 64, 67, 0.3), 0px 1px 3px 1px rgba(60, 64, 67, 0.15);\n",
              "      fill: #174EA6;\n",
              "    }\n",
              "\n",
              "    [theme=dark] .colab-df-convert {\n",
              "      background-color: #3B4455;\n",
              "      fill: #D2E3FC;\n",
              "    }\n",
              "\n",
              "    [theme=dark] .colab-df-convert:hover {\n",
              "      background-color: #434B5C;\n",
              "      box-shadow: 0px 1px 3px 1px rgba(0, 0, 0, 0.15);\n",
              "      filter: drop-shadow(0px 1px 2px rgba(0, 0, 0, 0.3));\n",
              "      fill: #FFFFFF;\n",
              "    }\n",
              "  </style>\n",
              "\n",
              "      <script>\n",
              "        const buttonEl =\n",
              "          document.querySelector('#df-fc26d03f-a9cc-4dfb-8cc8-3702afaa8049 button.colab-df-convert');\n",
              "        buttonEl.style.display =\n",
              "          google.colab.kernel.accessAllowed ? 'block' : 'none';\n",
              "\n",
              "        async function convertToInteractive(key) {\n",
              "          const element = document.querySelector('#df-fc26d03f-a9cc-4dfb-8cc8-3702afaa8049');\n",
              "          const dataTable =\n",
              "            await google.colab.kernel.invokeFunction('convertToInteractive',\n",
              "                                                     [key], {});\n",
              "          if (!dataTable) return;\n",
              "\n",
              "          const docLinkHtml = 'Like what you see? Visit the ' +\n",
              "            '<a target=\"_blank\" href=https://colab.research.google.com/notebooks/data_table.ipynb>data table notebook</a>'\n",
              "            + ' to learn more about interactive tables.';\n",
              "          element.innerHTML = '';\n",
              "          dataTable['output_type'] = 'display_data';\n",
              "          await google.colab.output.renderOutput(dataTable, element);\n",
              "          const docLink = document.createElement('div');\n",
              "          docLink.innerHTML = docLinkHtml;\n",
              "          element.appendChild(docLink);\n",
              "        }\n",
              "      </script>\n",
              "    </div>\n",
              "  </div>\n",
              "  "
            ]
          },
          "metadata": {},
          "execution_count": 52
        }
      ]
    },
    {
      "cell_type": "code",
      "source": [
        ""
      ],
      "metadata": {
        "id": "HMuhSQYZBlQY"
      },
      "execution_count": null,
      "outputs": []
    },
    {
      "cell_type": "code",
      "source": [
        "a = list_mesure1(X_test, 24)\n",
        "a = np.array(a)\n",
        "a = a.reshape((1,-1))\n",
        "model.predict(a)"
      ],
      "metadata": {
        "id": "_9q0QtXrnHwP"
      },
      "execution_count": null,
      "outputs": []
    },
    {
      "cell_type": "code",
      "source": [
        "import tensorflow as tf\n",
        "from tensorflow.keras import Sequential\n",
        "from tensorflow.keras import layers"
      ],
      "metadata": {
        "id": "L3VzkCXknymd"
      },
      "execution_count": null,
      "outputs": []
    },
    {
      "cell_type": "code",
      "source": [
        "model = Sequential(\n",
        "    layers.Dense(2, activation=\"relu\", name=\"layer1\"),\n",
        "    layers.Dense(3, activation=\"relu\", name=\"layer2\"),\n",
        "    layers.Dense(2, name=\"layer3\"),\n",
        ")"
      ],
      "metadata": {
        "colab": {
          "base_uri": "https://localhost:8080/",
          "height": 363
        },
        "id": "bqmrXsJMUaCJ",
        "outputId": "47383114-9026-46c7-d31f-89cd639d64fd"
      },
      "execution_count": null,
      "outputs": [
        {
          "output_type": "error",
          "ename": "TypeError",
          "evalue": "ignored",
          "traceback": [
            "\u001b[0;31m---------------------------------------------------------------------------\u001b[0m",
            "\u001b[0;31mTypeError\u001b[0m                                 Traceback (most recent call last)",
            "\u001b[0;32m<ipython-input-28-6fdca2e7d58f>\u001b[0m in \u001b[0;36m<module>\u001b[0;34m()\u001b[0m\n\u001b[1;32m      2\u001b[0m     \u001b[0mlayers\u001b[0m\u001b[0;34m.\u001b[0m\u001b[0mDense\u001b[0m\u001b[0;34m(\u001b[0m\u001b[0;36m2\u001b[0m\u001b[0;34m,\u001b[0m \u001b[0mactivation\u001b[0m\u001b[0;34m=\u001b[0m\u001b[0;34m\"relu\"\u001b[0m\u001b[0;34m,\u001b[0m \u001b[0mname\u001b[0m\u001b[0;34m=\u001b[0m\u001b[0;34m\"layer1\"\u001b[0m\u001b[0;34m)\u001b[0m\u001b[0;34m,\u001b[0m\u001b[0;34m\u001b[0m\u001b[0;34m\u001b[0m\u001b[0m\n\u001b[1;32m      3\u001b[0m     \u001b[0mlayers\u001b[0m\u001b[0;34m.\u001b[0m\u001b[0mDense\u001b[0m\u001b[0;34m(\u001b[0m\u001b[0;36m3\u001b[0m\u001b[0;34m,\u001b[0m \u001b[0mactivation\u001b[0m\u001b[0;34m=\u001b[0m\u001b[0;34m\"relu\"\u001b[0m\u001b[0;34m,\u001b[0m \u001b[0mname\u001b[0m\u001b[0;34m=\u001b[0m\u001b[0;34m\"layer2\"\u001b[0m\u001b[0;34m)\u001b[0m\u001b[0;34m,\u001b[0m\u001b[0;34m\u001b[0m\u001b[0;34m\u001b[0m\u001b[0m\n\u001b[0;32m----> 4\u001b[0;31m     \u001b[0mlayers\u001b[0m\u001b[0;34m.\u001b[0m\u001b[0mDense\u001b[0m\u001b[0;34m(\u001b[0m\u001b[0;36m2\u001b[0m\u001b[0;34m,\u001b[0m \u001b[0mname\u001b[0m\u001b[0;34m=\u001b[0m\u001b[0;34m\"layer3\"\u001b[0m\u001b[0;34m)\u001b[0m\u001b[0;34m,\u001b[0m\u001b[0;34m\u001b[0m\u001b[0;34m\u001b[0m\u001b[0m\n\u001b[0m\u001b[1;32m      5\u001b[0m )\n",
            "\u001b[0;32m/usr/local/lib/python3.7/dist-packages/tensorflow/python/training/tracking/base.py\u001b[0m in \u001b[0;36m_method_wrapper\u001b[0;34m(self, *args, **kwargs)\u001b[0m\n\u001b[1;32m    627\u001b[0m     \u001b[0mself\u001b[0m\u001b[0;34m.\u001b[0m\u001b[0m_self_setattr_tracking\u001b[0m \u001b[0;34m=\u001b[0m \u001b[0;32mFalse\u001b[0m  \u001b[0;31m# pylint: disable=protected-access\u001b[0m\u001b[0;34m\u001b[0m\u001b[0;34m\u001b[0m\u001b[0m\n\u001b[1;32m    628\u001b[0m     \u001b[0;32mtry\u001b[0m\u001b[0;34m:\u001b[0m\u001b[0;34m\u001b[0m\u001b[0;34m\u001b[0m\u001b[0m\n\u001b[0;32m--> 629\u001b[0;31m       \u001b[0mresult\u001b[0m \u001b[0;34m=\u001b[0m \u001b[0mmethod\u001b[0m\u001b[0;34m(\u001b[0m\u001b[0mself\u001b[0m\u001b[0;34m,\u001b[0m \u001b[0;34m*\u001b[0m\u001b[0margs\u001b[0m\u001b[0;34m,\u001b[0m \u001b[0;34m**\u001b[0m\u001b[0mkwargs\u001b[0m\u001b[0;34m)\u001b[0m\u001b[0;34m\u001b[0m\u001b[0;34m\u001b[0m\u001b[0m\n\u001b[0m\u001b[1;32m    630\u001b[0m     \u001b[0;32mfinally\u001b[0m\u001b[0;34m:\u001b[0m\u001b[0;34m\u001b[0m\u001b[0;34m\u001b[0m\u001b[0m\n\u001b[1;32m    631\u001b[0m       \u001b[0mself\u001b[0m\u001b[0;34m.\u001b[0m\u001b[0m_self_setattr_tracking\u001b[0m \u001b[0;34m=\u001b[0m \u001b[0mprevious_value\u001b[0m  \u001b[0;31m# pylint: disable=protected-access\u001b[0m\u001b[0;34m\u001b[0m\u001b[0;34m\u001b[0m\u001b[0m\n",
            "\u001b[0;32m/usr/local/lib/python3.7/dist-packages/keras/utils/traceback_utils.py\u001b[0m in \u001b[0;36merror_handler\u001b[0;34m(*args, **kwargs)\u001b[0m\n\u001b[1;32m     65\u001b[0m     \u001b[0;32mexcept\u001b[0m \u001b[0mException\u001b[0m \u001b[0;32mas\u001b[0m \u001b[0me\u001b[0m\u001b[0;34m:\u001b[0m  \u001b[0;31m# pylint: disable=broad-except\u001b[0m\u001b[0;34m\u001b[0m\u001b[0;34m\u001b[0m\u001b[0m\n\u001b[1;32m     66\u001b[0m       \u001b[0mfiltered_tb\u001b[0m \u001b[0;34m=\u001b[0m \u001b[0m_process_traceback_frames\u001b[0m\u001b[0;34m(\u001b[0m\u001b[0me\u001b[0m\u001b[0;34m.\u001b[0m\u001b[0m__traceback__\u001b[0m\u001b[0;34m)\u001b[0m\u001b[0;34m\u001b[0m\u001b[0;34m\u001b[0m\u001b[0m\n\u001b[0;32m---> 67\u001b[0;31m       \u001b[0;32mraise\u001b[0m \u001b[0me\u001b[0m\u001b[0;34m.\u001b[0m\u001b[0mwith_traceback\u001b[0m\u001b[0;34m(\u001b[0m\u001b[0mfiltered_tb\u001b[0m\u001b[0;34m)\u001b[0m \u001b[0;32mfrom\u001b[0m \u001b[0;32mNone\u001b[0m\u001b[0;34m\u001b[0m\u001b[0;34m\u001b[0m\u001b[0m\n\u001b[0m\u001b[1;32m     68\u001b[0m     \u001b[0;32mfinally\u001b[0m\u001b[0;34m:\u001b[0m\u001b[0;34m\u001b[0m\u001b[0;34m\u001b[0m\u001b[0m\n\u001b[1;32m     69\u001b[0m       \u001b[0;32mdel\u001b[0m \u001b[0mfiltered_tb\u001b[0m\u001b[0;34m\u001b[0m\u001b[0;34m\u001b[0m\u001b[0m\n",
            "\u001b[0;32m/usr/local/lib/python3.7/dist-packages/keras/utils/traceback_utils.py\u001b[0m in \u001b[0;36merror_handler\u001b[0;34m(*args, **kwargs)\u001b[0m\n\u001b[1;32m     62\u001b[0m     \u001b[0mfiltered_tb\u001b[0m \u001b[0;34m=\u001b[0m \u001b[0;32mNone\u001b[0m\u001b[0;34m\u001b[0m\u001b[0;34m\u001b[0m\u001b[0m\n\u001b[1;32m     63\u001b[0m     \u001b[0;32mtry\u001b[0m\u001b[0;34m:\u001b[0m\u001b[0;34m\u001b[0m\u001b[0;34m\u001b[0m\u001b[0m\n\u001b[0;32m---> 64\u001b[0;31m       \u001b[0;32mreturn\u001b[0m \u001b[0mfn\u001b[0m\u001b[0;34m(\u001b[0m\u001b[0;34m*\u001b[0m\u001b[0margs\u001b[0m\u001b[0;34m,\u001b[0m \u001b[0;34m**\u001b[0m\u001b[0mkwargs\u001b[0m\u001b[0;34m)\u001b[0m\u001b[0;34m\u001b[0m\u001b[0;34m\u001b[0m\u001b[0m\n\u001b[0m\u001b[1;32m     65\u001b[0m     \u001b[0;32mexcept\u001b[0m \u001b[0mException\u001b[0m \u001b[0;32mas\u001b[0m \u001b[0me\u001b[0m\u001b[0;34m:\u001b[0m  \u001b[0;31m# pylint: disable=broad-except\u001b[0m\u001b[0;34m\u001b[0m\u001b[0;34m\u001b[0m\u001b[0m\n\u001b[1;32m     66\u001b[0m       \u001b[0mfiltered_tb\u001b[0m \u001b[0;34m=\u001b[0m \u001b[0m_process_traceback_frames\u001b[0m\u001b[0;34m(\u001b[0m\u001b[0me\u001b[0m\u001b[0;34m.\u001b[0m\u001b[0m__traceback__\u001b[0m\u001b[0;34m)\u001b[0m\u001b[0;34m\u001b[0m\u001b[0;34m\u001b[0m\u001b[0m\n",
            "\u001b[0;31mTypeError\u001b[0m: __init__() takes from 1 to 3 positional arguments but 4 were given"
          ]
        }
      ]
    },
    {
      "cell_type": "code",
      "source": [
        "c = [['x', '1.23', '14.2'], \n",
        "     ['y', '20', '0.11'],\n",
        "     ['z', '3', '10']]\n",
        "df = pd.DataFrame(\n",
        "    c, \n",
        "    columns=['first', 'second', 'third'])\n",
        "print(df)\n",
        "df[['second', 'third']] = df[['second', 'third']].astype(float)\n",
        "print('Converting..................')\n",
        "print('............................')\n",
        "df"
      ],
      "metadata": {
        "colab": {
          "base_uri": "https://localhost:8080/",
          "height": 248
        },
        "id": "F7CJuDGVU5QI",
        "outputId": "d4f5755e-22cf-4a4c-b963-4a3acab78206"
      },
      "execution_count": null,
      "outputs": [
        {
          "output_type": "stream",
          "name": "stdout",
          "text": [
            "  first second third\n",
            "0     x   1.23  14.2\n",
            "1     y     20  0.11\n",
            "2     z      3    10\n",
            "Converting..................\n",
            "............................\n"
          ]
        },
        {
          "output_type": "execute_result",
          "data": {
            "text/plain": [
              "  first  second  third\n",
              "0     x    1.23  14.20\n",
              "1     y   20.00   0.11\n",
              "2     z    3.00  10.00"
            ],
            "text/html": [
              "\n",
              "  <div id=\"df-b037c5f4-0beb-4ad7-8c5e-c1b65ca4721e\">\n",
              "    <div class=\"colab-df-container\">\n",
              "      <div>\n",
              "<style scoped>\n",
              "    .dataframe tbody tr th:only-of-type {\n",
              "        vertical-align: middle;\n",
              "    }\n",
              "\n",
              "    .dataframe tbody tr th {\n",
              "        vertical-align: top;\n",
              "    }\n",
              "\n",
              "    .dataframe thead th {\n",
              "        text-align: right;\n",
              "    }\n",
              "</style>\n",
              "<table border=\"1\" class=\"dataframe\">\n",
              "  <thead>\n",
              "    <tr style=\"text-align: right;\">\n",
              "      <th></th>\n",
              "      <th>first</th>\n",
              "      <th>second</th>\n",
              "      <th>third</th>\n",
              "    </tr>\n",
              "  </thead>\n",
              "  <tbody>\n",
              "    <tr>\n",
              "      <th>0</th>\n",
              "      <td>x</td>\n",
              "      <td>1.23</td>\n",
              "      <td>14.20</td>\n",
              "    </tr>\n",
              "    <tr>\n",
              "      <th>1</th>\n",
              "      <td>y</td>\n",
              "      <td>20.00</td>\n",
              "      <td>0.11</td>\n",
              "    </tr>\n",
              "    <tr>\n",
              "      <th>2</th>\n",
              "      <td>z</td>\n",
              "      <td>3.00</td>\n",
              "      <td>10.00</td>\n",
              "    </tr>\n",
              "  </tbody>\n",
              "</table>\n",
              "</div>\n",
              "      <button class=\"colab-df-convert\" onclick=\"convertToInteractive('df-b037c5f4-0beb-4ad7-8c5e-c1b65ca4721e')\"\n",
              "              title=\"Convert this dataframe to an interactive table.\"\n",
              "              style=\"display:none;\">\n",
              "        \n",
              "  <svg xmlns=\"http://www.w3.org/2000/svg\" height=\"24px\"viewBox=\"0 0 24 24\"\n",
              "       width=\"24px\">\n",
              "    <path d=\"M0 0h24v24H0V0z\" fill=\"none\"/>\n",
              "    <path d=\"M18.56 5.44l.94 2.06.94-2.06 2.06-.94-2.06-.94-.94-2.06-.94 2.06-2.06.94zm-11 1L8.5 8.5l.94-2.06 2.06-.94-2.06-.94L8.5 2.5l-.94 2.06-2.06.94zm10 10l.94 2.06.94-2.06 2.06-.94-2.06-.94-.94-2.06-.94 2.06-2.06.94z\"/><path d=\"M17.41 7.96l-1.37-1.37c-.4-.4-.92-.59-1.43-.59-.52 0-1.04.2-1.43.59L10.3 9.45l-7.72 7.72c-.78.78-.78 2.05 0 2.83L4 21.41c.39.39.9.59 1.41.59.51 0 1.02-.2 1.41-.59l7.78-7.78 2.81-2.81c.8-.78.8-2.07 0-2.86zM5.41 20L4 18.59l7.72-7.72 1.47 1.35L5.41 20z\"/>\n",
              "  </svg>\n",
              "      </button>\n",
              "      \n",
              "  <style>\n",
              "    .colab-df-container {\n",
              "      display:flex;\n",
              "      flex-wrap:wrap;\n",
              "      gap: 12px;\n",
              "    }\n",
              "\n",
              "    .colab-df-convert {\n",
              "      background-color: #E8F0FE;\n",
              "      border: none;\n",
              "      border-radius: 50%;\n",
              "      cursor: pointer;\n",
              "      display: none;\n",
              "      fill: #1967D2;\n",
              "      height: 32px;\n",
              "      padding: 0 0 0 0;\n",
              "      width: 32px;\n",
              "    }\n",
              "\n",
              "    .colab-df-convert:hover {\n",
              "      background-color: #E2EBFA;\n",
              "      box-shadow: 0px 1px 2px rgba(60, 64, 67, 0.3), 0px 1px 3px 1px rgba(60, 64, 67, 0.15);\n",
              "      fill: #174EA6;\n",
              "    }\n",
              "\n",
              "    [theme=dark] .colab-df-convert {\n",
              "      background-color: #3B4455;\n",
              "      fill: #D2E3FC;\n",
              "    }\n",
              "\n",
              "    [theme=dark] .colab-df-convert:hover {\n",
              "      background-color: #434B5C;\n",
              "      box-shadow: 0px 1px 3px 1px rgba(0, 0, 0, 0.15);\n",
              "      filter: drop-shadow(0px 1px 2px rgba(0, 0, 0, 0.3));\n",
              "      fill: #FFFFFF;\n",
              "    }\n",
              "  </style>\n",
              "\n",
              "      <script>\n",
              "        const buttonEl =\n",
              "          document.querySelector('#df-b037c5f4-0beb-4ad7-8c5e-c1b65ca4721e button.colab-df-convert');\n",
              "        buttonEl.style.display =\n",
              "          google.colab.kernel.accessAllowed ? 'block' : 'none';\n",
              "\n",
              "        async function convertToInteractive(key) {\n",
              "          const element = document.querySelector('#df-b037c5f4-0beb-4ad7-8c5e-c1b65ca4721e');\n",
              "          const dataTable =\n",
              "            await google.colab.kernel.invokeFunction('convertToInteractive',\n",
              "                                                     [key], {});\n",
              "          if (!dataTable) return;\n",
              "\n",
              "          const docLinkHtml = 'Like what you see? Visit the ' +\n",
              "            '<a target=\"_blank\" href=https://colab.research.google.com/notebooks/data_table.ipynb>data table notebook</a>'\n",
              "            + ' to learn more about interactive tables.';\n",
              "          element.innerHTML = '';\n",
              "          dataTable['output_type'] = 'display_data';\n",
              "          await google.colab.output.renderOutput(dataTable, element);\n",
              "          const docLink = document.createElement('div');\n",
              "          docLink.innerHTML = docLinkHtml;\n",
              "          element.appendChild(docLink);\n",
              "        }\n",
              "      </script>\n",
              "    </div>\n",
              "  </div>\n",
              "  "
            ]
          },
          "metadata": {},
          "execution_count": 115
        }
      ]
    },
    {
      "cell_type": "code",
      "source": [
        "df[df.columns[:-1]]"
      ],
      "metadata": {
        "colab": {
          "base_uri": "https://localhost:8080/",
          "height": 143
        },
        "id": "2E5bAheBVl7B",
        "outputId": "002c9f20-b792-43ee-aa52-dfcf45572325"
      },
      "execution_count": null,
      "outputs": [
        {
          "output_type": "execute_result",
          "data": {
            "text/plain": [
              "  first  second\n",
              "0     x    1.23\n",
              "1     y   20.00\n",
              "2     z    3.00"
            ],
            "text/html": [
              "\n",
              "  <div id=\"df-b02e58c2-50dc-4a59-ab1f-fb3ad214c58e\">\n",
              "    <div class=\"colab-df-container\">\n",
              "      <div>\n",
              "<style scoped>\n",
              "    .dataframe tbody tr th:only-of-type {\n",
              "        vertical-align: middle;\n",
              "    }\n",
              "\n",
              "    .dataframe tbody tr th {\n",
              "        vertical-align: top;\n",
              "    }\n",
              "\n",
              "    .dataframe thead th {\n",
              "        text-align: right;\n",
              "    }\n",
              "</style>\n",
              "<table border=\"1\" class=\"dataframe\">\n",
              "  <thead>\n",
              "    <tr style=\"text-align: right;\">\n",
              "      <th></th>\n",
              "      <th>first</th>\n",
              "      <th>second</th>\n",
              "    </tr>\n",
              "  </thead>\n",
              "  <tbody>\n",
              "    <tr>\n",
              "      <th>0</th>\n",
              "      <td>x</td>\n",
              "      <td>1.23</td>\n",
              "    </tr>\n",
              "    <tr>\n",
              "      <th>1</th>\n",
              "      <td>y</td>\n",
              "      <td>20.00</td>\n",
              "    </tr>\n",
              "    <tr>\n",
              "      <th>2</th>\n",
              "      <td>z</td>\n",
              "      <td>3.00</td>\n",
              "    </tr>\n",
              "  </tbody>\n",
              "</table>\n",
              "</div>\n",
              "      <button class=\"colab-df-convert\" onclick=\"convertToInteractive('df-b02e58c2-50dc-4a59-ab1f-fb3ad214c58e')\"\n",
              "              title=\"Convert this dataframe to an interactive table.\"\n",
              "              style=\"display:none;\">\n",
              "        \n",
              "  <svg xmlns=\"http://www.w3.org/2000/svg\" height=\"24px\"viewBox=\"0 0 24 24\"\n",
              "       width=\"24px\">\n",
              "    <path d=\"M0 0h24v24H0V0z\" fill=\"none\"/>\n",
              "    <path d=\"M18.56 5.44l.94 2.06.94-2.06 2.06-.94-2.06-.94-.94-2.06-.94 2.06-2.06.94zm-11 1L8.5 8.5l.94-2.06 2.06-.94-2.06-.94L8.5 2.5l-.94 2.06-2.06.94zm10 10l.94 2.06.94-2.06 2.06-.94-2.06-.94-.94-2.06-.94 2.06-2.06.94z\"/><path d=\"M17.41 7.96l-1.37-1.37c-.4-.4-.92-.59-1.43-.59-.52 0-1.04.2-1.43.59L10.3 9.45l-7.72 7.72c-.78.78-.78 2.05 0 2.83L4 21.41c.39.39.9.59 1.41.59.51 0 1.02-.2 1.41-.59l7.78-7.78 2.81-2.81c.8-.78.8-2.07 0-2.86zM5.41 20L4 18.59l7.72-7.72 1.47 1.35L5.41 20z\"/>\n",
              "  </svg>\n",
              "      </button>\n",
              "      \n",
              "  <style>\n",
              "    .colab-df-container {\n",
              "      display:flex;\n",
              "      flex-wrap:wrap;\n",
              "      gap: 12px;\n",
              "    }\n",
              "\n",
              "    .colab-df-convert {\n",
              "      background-color: #E8F0FE;\n",
              "      border: none;\n",
              "      border-radius: 50%;\n",
              "      cursor: pointer;\n",
              "      display: none;\n",
              "      fill: #1967D2;\n",
              "      height: 32px;\n",
              "      padding: 0 0 0 0;\n",
              "      width: 32px;\n",
              "    }\n",
              "\n",
              "    .colab-df-convert:hover {\n",
              "      background-color: #E2EBFA;\n",
              "      box-shadow: 0px 1px 2px rgba(60, 64, 67, 0.3), 0px 1px 3px 1px rgba(60, 64, 67, 0.15);\n",
              "      fill: #174EA6;\n",
              "    }\n",
              "\n",
              "    [theme=dark] .colab-df-convert {\n",
              "      background-color: #3B4455;\n",
              "      fill: #D2E3FC;\n",
              "    }\n",
              "\n",
              "    [theme=dark] .colab-df-convert:hover {\n",
              "      background-color: #434B5C;\n",
              "      box-shadow: 0px 1px 3px 1px rgba(0, 0, 0, 0.15);\n",
              "      filter: drop-shadow(0px 1px 2px rgba(0, 0, 0, 0.3));\n",
              "      fill: #FFFFFF;\n",
              "    }\n",
              "  </style>\n",
              "\n",
              "      <script>\n",
              "        const buttonEl =\n",
              "          document.querySelector('#df-b02e58c2-50dc-4a59-ab1f-fb3ad214c58e button.colab-df-convert');\n",
              "        buttonEl.style.display =\n",
              "          google.colab.kernel.accessAllowed ? 'block' : 'none';\n",
              "\n",
              "        async function convertToInteractive(key) {\n",
              "          const element = document.querySelector('#df-b02e58c2-50dc-4a59-ab1f-fb3ad214c58e');\n",
              "          const dataTable =\n",
              "            await google.colab.kernel.invokeFunction('convertToInteractive',\n",
              "                                                     [key], {});\n",
              "          if (!dataTable) return;\n",
              "\n",
              "          const docLinkHtml = 'Like what you see? Visit the ' +\n",
              "            '<a target=\"_blank\" href=https://colab.research.google.com/notebooks/data_table.ipynb>data table notebook</a>'\n",
              "            + ' to learn more about interactive tables.';\n",
              "          element.innerHTML = '';\n",
              "          dataTable['output_type'] = 'display_data';\n",
              "          await google.colab.output.renderOutput(dataTable, element);\n",
              "          const docLink = document.createElement('div');\n",
              "          docLink.innerHTML = docLinkHtml;\n",
              "          element.appendChild(docLink);\n",
              "        }\n",
              "      </script>\n",
              "    </div>\n",
              "  </div>\n",
              "  "
            ]
          },
          "metadata": {},
          "execution_count": 118
        }
      ]
    },
    {
      "cell_type": "code",
      "source": [
        ""
      ],
      "metadata": {
        "id": "E75lO2-6nKeA"
      },
      "execution_count": null,
      "outputs": []
    }
  ]
}